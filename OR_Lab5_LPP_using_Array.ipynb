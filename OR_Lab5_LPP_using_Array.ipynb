{
  "nbformat": 4,
  "nbformat_minor": 0,
  "metadata": {
    "colab": {
      "name": "OR_Lab5_LPP using Array.ipynb",
      "provenance": [],
      "authorship_tag": "ABX9TyN5ROUHO+g/CakKAw7j3BVR",
      "include_colab_link": true
    },
    "kernelspec": {
      "name": "python3",
      "display_name": "Python 3"
    },
    "language_info": {
      "name": "python"
    }
  },
  "cells": [
    {
      "cell_type": "markdown",
      "metadata": {
        "id": "view-in-github",
        "colab_type": "text"
      },
      "source": [
        "<a href=\"https://colab.research.google.com/github/VrindaM27/Operation-Research-and-Optimization/blob/main/OR_Lab5_LPP_using_Array.ipynb\" target=\"_parent\"><img src=\"https://colab.research.google.com/assets/colab-badge.svg\" alt=\"Open In Colab\"/></a>"
      ]
    },
    {
      "cell_type": "markdown",
      "metadata": {
        "id": "f7ZyBlDBmXwm"
      },
      "source": [
        "# **LPP USING ARRAY**\n",
        "\n",
        "Q1. Maximize  Z = 3X¬1 + 2X2 + 3X3 \n",
        "\n",
        "Subject to,\n",
        "\n",
        " 2X¬1 + X2 + X3 = 2\n",
        "\n",
        "X¬1 + 3X2 + X3 =6\n",
        "\n",
        "3X¬1 + 4X2 + 2X3 =8\n",
        "\n",
        "X1 ,X2 , X3 ≥0\n"
      ]
    },
    {
      "cell_type": "code",
      "metadata": {
        "id": "yycpUdm3l3Hm"
      },
      "source": [
        "from scipy import *"
      ],
      "execution_count": 1,
      "outputs": []
    },
    {
      "cell_type": "code",
      "metadata": {
        "colab": {
          "base_uri": "https://localhost:8080/"
        },
        "id": "IVtMpk-lmrKT",
        "outputId": "43941d97-ec8a-4379-d0fd-dec2540e1036"
      },
      "source": [
        "from scipy.optimize import linprog\n",
        "import time\n",
        "c = [-3,-2,-3]\n",
        "A = [[2,1,1],[1,3,1],[3,4,2]]\n",
        "b = [2,6,8]\n",
        "x1_bnds = (0, None)\n",
        "x2_bnds = (0, None)\n",
        "x3_bnds = (0, None)\n",
        "begin = time.time()\n",
        "res = linprog(c, A_eq=A, b_eq=b, bounds=(x1_bnds, x2_bnds, x3_bnds), method='simplex', options={\"disp\":True})\n",
        "print(\"Time taken: %s seconds\"%(time.time()-begin))\n",
        "print(res)"
      ],
      "execution_count": 2,
      "outputs": [
        {
          "output_type": "stream",
          "name": "stdout",
          "text": [
            "Optimization terminated successfully.\n",
            "         Current function value: -4.000000   \n",
            "         Iterations: 3\n",
            "Time taken: 0.08681821823120117 seconds\n",
            "     con: array([0., 0., 0.])\n",
            "     fun: -4.0\n",
            " message: 'Optimization terminated successfully.'\n",
            "     nit: 3\n",
            "   slack: array([], dtype=float64)\n",
            "  status: 0\n",
            " success: True\n",
            "       x: array([0., 2., 0.])\n"
          ]
        },
        {
          "output_type": "stream",
          "name": "stderr",
          "text": [
            "/usr/local/lib/python3.7/dist-packages/ipykernel_launcher.py:10: OptimizeWarning: A_eq does not appear to be of full row rank. To improve performance, check the problem formulation for redundant equality constraints.\n",
            "  # Remove the CWD from sys.path while we load stuff.\n"
          ]
        }
      ]
    },
    {
      "cell_type": "markdown",
      "metadata": {
        "id": "m_4SGba2mynU"
      },
      "source": [
        "Q2. Minimize  Z = 3X¬1 - 4X2 + 3X3 \n",
        "\n",
        "Subject to,\n",
        "\n",
        " 5X¬1 + 6X2 + 2X3 ≤ 5\n",
        "\n",
        "-X¬1 + 3X2 +5 X3 ≥ 8\n",
        "\n",
        "2X¬1 + 5X2 - 4X3 ≤4\n",
        "\n",
        "X1 ,X2 , X3 ≥0\n"
      ]
    },
    {
      "cell_type": "code",
      "metadata": {
        "colab": {
          "base_uri": "https://localhost:8080/"
        },
        "id": "4U20SY_rm6J_",
        "outputId": "36bc28fb-f9cf-4b77-a290-b66858dd6368"
      },
      "source": [
        "c = [3,-4,3]\n",
        "A = [[5,6,2],[1,-3,-5],[2,5,-4]]\n",
        "b = [5,-8,4]\n",
        "x1_bnds = (0, None)\n",
        "x2_bnds = (0, None)\n",
        "x3_bnds = (0, None)\n",
        "begin = time.time()\n",
        "res2 = linprog(c, A, b, bounds=(x1_bnds, x2_bnds, x3_bnds), method='simplex', options={\"disp\":True})\n",
        "print(\"Time taken: %s seconds\"%(time.time()-begin))\n",
        "print(res2)"
      ],
      "execution_count": 3,
      "outputs": [
        {
          "output_type": "stream",
          "name": "stdout",
          "text": [
            "Optimization terminated successfully.\n",
            "         Current function value: 2.625000    \n",
            "         Iterations: 3\n",
            "Time taken: 0.01035618782043457 seconds\n",
            "     con: array([], dtype=float64)\n",
            "     fun: 2.624999999999999\n",
            " message: 'Optimization terminated successfully.'\n",
            "     nit: 3\n",
            "   slack: array([ 0.0000000e+00, -8.8817842e-16,  7.6250000e+00])\n",
            "  status: 0\n",
            " success: True\n",
            "       x: array([0.   , 0.375, 1.375])\n"
          ]
        }
      ]
    },
    {
      "cell_type": "markdown",
      "metadata": {
        "id": "xomoJL6wm9ge"
      },
      "source": [
        "Q3. Maximize  Z = 2X¬1 + 4X2 + 4X3  -3X4\n",
        "\n",
        "Subject to,\n",
        "\n",
        " X¬1 + X2 + X3 = 4\n",
        "\n",
        "X¬1 + 4X2 + X4 =8\n",
        "\n",
        "3X¬1 + 4X2 + 2X3 =8\n",
        "\n",
        "X1 ,X2 , X3 , X4 ≥0\n"
      ]
    },
    {
      "cell_type": "code",
      "metadata": {
        "colab": {
          "base_uri": "https://localhost:8080/"
        },
        "id": "CQO_mBWonELr",
        "outputId": "6bfcd422-08a9-4b84-ed7b-8373347bb6d7"
      },
      "source": [
        "c = [-2,-4,-4,3]\n",
        "A = [[1,1,1,0],[1,4,0,1],[3,4,2,0]]\n",
        "b = [4,8,8]\n",
        "x1_bnds = (0, None)\n",
        "x2_bnds = (0, None)\n",
        "x3_bnds = (0, None)\n",
        "x4_bnds = (0, None)\n",
        "begin=time.time()\n",
        "res3 = linprog(c, A_eq=A, b_eq=b, bounds=(x1_bnds, x2_bnds, x3_bnds, x4_bnds), method='simplex', options={\"disp\":True})\n",
        "print(\"Time taken: %s seconds\"%(time.time()-begin))\n",
        "print(res3)"
      ],
      "execution_count": 4,
      "outputs": [
        {
          "output_type": "stream",
          "name": "stdout",
          "text": [
            "Optimization terminated successfully.\n",
            "         Current function value: 8.000000    \n",
            "         Iterations: 3\n",
            "Time taken: 0.004616260528564453 seconds\n",
            "     con: array([0., 0., 0.])\n",
            "     fun: 8.0\n",
            " message: 'Optimization terminated successfully.'\n",
            "     nit: 3\n",
            "   slack: array([], dtype=float64)\n",
            "  status: 0\n",
            " success: True\n",
            "       x: array([0., 0., 4., 8.])\n"
          ]
        }
      ]
    }
  ]
}