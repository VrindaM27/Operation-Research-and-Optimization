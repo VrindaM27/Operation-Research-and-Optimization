{
  "nbformat": 4,
  "nbformat_minor": 0,
  "metadata": {
    "colab": {
      "name": "OR_Lab5_LPP using Array.ipynb",
      "provenance": [],
      "authorship_tag": "ABX9TyPRZhwFPbzvkF4KMMpCFS6l",
      "include_colab_link": true
    },
    "kernelspec": {
      "name": "python3",
      "display_name": "Python 3"
    },
    "language_info": {
      "name": "python"
    }
  },
  "cells": [
    {
      "cell_type": "markdown",
      "metadata": {
        "id": "view-in-github",
        "colab_type": "text"
      },
      "source": [
        "<a href=\"https://colab.research.google.com/github/VrindaM27/Operation-Research-and-Optimization/blob/main/OR_Lab5_LPP_using_Array.ipynb\" target=\"_parent\"><img src=\"https://colab.research.google.com/assets/colab-badge.svg\" alt=\"Open In Colab\"/></a>"
      ]
    },
    {
      "cell_type": "markdown",
      "metadata": {
        "id": "f7ZyBlDBmXwm"
      },
      "source": [
        "# **LPP USING ARRAY**\n",
        "\n",
        "![1.PNG](data:image/png;base64,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)\n"
      ]
    },
    {
      "cell_type": "code",
      "metadata": {
        "id": "yycpUdm3l3Hm"
      },
      "source": [
        "from scipy import *"
      ],
      "execution_count": 1,
      "outputs": []
    },
    {
      "cell_type": "code",
      "metadata": {
        "colab": {
          "base_uri": "https://localhost:8080/"
        },
        "id": "IVtMpk-lmrKT",
        "outputId": "43941d97-ec8a-4379-d0fd-dec2540e1036"
      },
      "source": [
        "from scipy.optimize import linprog\n",
        "import time\n",
        "c = [-3,-2,-3]\n",
        "A = [[2,1,1],[1,3,1],[3,4,2]]\n",
        "b = [2,6,8]\n",
        "x1_bnds = (0, None)\n",
        "x2_bnds = (0, None)\n",
        "x3_bnds = (0, None)\n",
        "begin = time.time()\n",
        "res = linprog(c, A_eq=A, b_eq=b, bounds=(x1_bnds, x2_bnds, x3_bnds), method='simplex', options={\"disp\":True})\n",
        "print(\"Time taken: %s seconds\"%(time.time()-begin))\n",
        "print(res)"
      ],
      "execution_count": 2,
      "outputs": [
        {
          "output_type": "stream",
          "name": "stdout",
          "text": [
            "Optimization terminated successfully.\n",
            "         Current function value: -4.000000   \n",
            "         Iterations: 3\n",
            "Time taken: 0.08681821823120117 seconds\n",
            "     con: array([0., 0., 0.])\n",
            "     fun: -4.0\n",
            " message: 'Optimization terminated successfully.'\n",
            "     nit: 3\n",
            "   slack: array([], dtype=float64)\n",
            "  status: 0\n",
            " success: True\n",
            "       x: array([0., 2., 0.])\n"
          ]
        },
        {
          "output_type": "stream",
          "name": "stderr",
          "text": [
            "/usr/local/lib/python3.7/dist-packages/ipykernel_launcher.py:10: OptimizeWarning: A_eq does not appear to be of full row rank. To improve performance, check the problem formulation for redundant equality constraints.\n",
            "  # Remove the CWD from sys.path while we load stuff.\n"
          ]
        }
      ]
    },
    {
      "cell_type": "markdown",
      "metadata": {
        "id": "m_4SGba2mynU"
      },
      "source": [
        "![2.PNG](data:image/png;base64,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)\n"
      ]
    },
    {
      "cell_type": "code",
      "metadata": {
        "colab": {
          "base_uri": "https://localhost:8080/"
        },
        "id": "4U20SY_rm6J_",
        "outputId": "36bc28fb-f9cf-4b77-a290-b66858dd6368"
      },
      "source": [
        "c = [3,-4,3]\n",
        "A = [[5,6,2],[1,-3,-5],[2,5,-4]]\n",
        "b = [5,-8,4]\n",
        "x1_bnds = (0, None)\n",
        "x2_bnds = (0, None)\n",
        "x3_bnds = (0, None)\n",
        "begin = time.time()\n",
        "res2 = linprog(c, A, b, bounds=(x1_bnds, x2_bnds, x3_bnds), method='simplex', options={\"disp\":True})\n",
        "print(\"Time taken: %s seconds\"%(time.time()-begin))\n",
        "print(res2)"
      ],
      "execution_count": 3,
      "outputs": [
        {
          "output_type": "stream",
          "name": "stdout",
          "text": [
            "Optimization terminated successfully.\n",
            "         Current function value: 2.625000    \n",
            "         Iterations: 3\n",
            "Time taken: 0.01035618782043457 seconds\n",
            "     con: array([], dtype=float64)\n",
            "     fun: 2.624999999999999\n",
            " message: 'Optimization terminated successfully.'\n",
            "     nit: 3\n",
            "   slack: array([ 0.0000000e+00, -8.8817842e-16,  7.6250000e+00])\n",
            "  status: 0\n",
            " success: True\n",
            "       x: array([0.   , 0.375, 1.375])\n"
          ]
        }
      ]
    },
    {
      "cell_type": "markdown",
      "metadata": {
        "id": "xomoJL6wm9ge"
      },
      "source": [
        "![3.PNG](data:image/png;base64,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)\n"
      ]
    },
    {
      "cell_type": "code",
      "metadata": {
        "colab": {
          "base_uri": "https://localhost:8080/"
        },
        "id": "CQO_mBWonELr",
        "outputId": "6bfcd422-08a9-4b84-ed7b-8373347bb6d7"
      },
      "source": [
        "c = [-2,-4,-4,3]\n",
        "A = [[1,1,1,0],[1,4,0,1],[3,4,2,0]]\n",
        "b = [4,8,8]\n",
        "x1_bnds = (0, None)\n",
        "x2_bnds = (0, None)\n",
        "x3_bnds = (0, None)\n",
        "x4_bnds = (0, None)\n",
        "begin=time.time()\n",
        "res3 = linprog(c, A_eq=A, b_eq=b, bounds=(x1_bnds, x2_bnds, x3_bnds, x4_bnds), method='simplex', options={\"disp\":True})\n",
        "print(\"Time taken: %s seconds\"%(time.time()-begin))\n",
        "print(res3)"
      ],
      "execution_count": 4,
      "outputs": [
        {
          "output_type": "stream",
          "name": "stdout",
          "text": [
            "Optimization terminated successfully.\n",
            "         Current function value: 8.000000    \n",
            "         Iterations: 3\n",
            "Time taken: 0.004616260528564453 seconds\n",
            "     con: array([0., 0., 0.])\n",
            "     fun: 8.0\n",
            " message: 'Optimization terminated successfully.'\n",
            "     nit: 3\n",
            "   slack: array([], dtype=float64)\n",
            "  status: 0\n",
            " success: True\n",
            "       x: array([0., 0., 4., 8.])\n"
          ]
        }
      ]
    }
  ]
}