{
  "nbformat": 4,
  "nbformat_minor": 0,
  "metadata": {
    "colab": {
      "name": "OR_Lab7_Special Cases in LPP.ipynb",
      "provenance": [],
      "authorship_tag": "ABX9TyNM0i2kuNDAjLXqZN+nIBCF",
      "include_colab_link": true
    },
    "kernelspec": {
      "name": "python3",
      "display_name": "Python 3"
    },
    "language_info": {
      "name": "python"
    }
  },
  "cells": [
    {
      "cell_type": "markdown",
      "metadata": {
        "id": "view-in-github",
        "colab_type": "text"
      },
      "source": [
        "<a href=\"https://colab.research.google.com/github/VrindaM27/Operation-Research-and-Optimization/blob/main/OR_Lab7_Special_Cases_in_LPP.ipynb\" target=\"_parent\"><img src=\"https://colab.research.google.com/assets/colab-badge.svg\" alt=\"Open In Colab\"/></a>"
      ]
    },
    {
      "cell_type": "code",
      "metadata": {
        "id": "-g0VVU_hKz7V"
      },
      "source": [
        "from scipy.optimize import linprog"
      ],
      "execution_count": 1,
      "outputs": []
    },
    {
      "cell_type": "markdown",
      "metadata": {
        "id": "jGmm5UjmLPJB"
      },
      "source": [
        "![image.png](data:image/png;base64,iVBORw0KGgoAAAANSUhEUgAAAOUAAACPCAYAAAAFphwqAAAT50lEQVR4nO2dz4sT5x/H3/Ol11YnuS0iZSc99LQ9zJZSdg8K3aRSvCjMRkoRuqiJt9JuaJbeqpIUPJRqssVTD52keBAhy24FhSZI1W1JDsVDd4L00FNSq/0Dnu9BP+NkMpNMfkzyZPfzgoAmk3meyc77+TzzPM/n/ShCCAGGYaThf9OuAMMwnbAoGUYyWJQMIxksSoaRDBYlw0gGi5JhJINFyTCSwaJkGMlgUTKMZLAoGUYyWJQMIxksSoaRDBYlw0gGi5JhJINFyTCSwaJkGMlgUTKMZLAoGUYyWJQMIxksSoaRDBYlw0gGi5JhJINFyTCSwaJkGMmYuCgTiQQURYGiKGi3277HLS4uQlEUJBIJ+718Pg9FUQYus1arQVEU1Gq1oersJpFIdNQrbOi6e73CrA+Vv7Gx4fl5o9GAoihYXV0NrQ5+tNttRCIRRCIRNJtNz2NWV1ehKAoajcaEazccr02z8Dt37nj+IRuNBnZ3d6dQIzl5//33kcvlPD/7/fffUS6Xcfjw4dDKX19fx927d3H58mV8+OGHWFpasj9rt9s4deoUNE3DtWvXQquDH9FoFLdv38by8jLS6TS2t7c7Pt/c3ES5XEaxWMTCwsLE6zcUYsLE43EBQOi6LgzD8Dwmm80KTdMEABGPxydcw9mhXq8LVVWFqqrCsqxQy7IsS6iqKjRNE61Wy37fMAwBQNTr9VDL70c2mxUARLFYtN+r1+sCgO99JitTE2WxWBQAOv7AhKZp9o/sFGUulxPOdiSXy4l4PC6q1arQdV0AEKqqilQq1XHearUqAIhqtdrxf8uy7JsKgP090zTtRkHTNFGpVLqugepF5/J7UZlCvLixU6mUUFXVPrfzJhqEVqtlX7OzjDCpVCodNzn9DYe9Bi/cf6tBoN+jXq+LVqslNE3rakRmgamJ0rIsAUCYptnxObVu9Hk/UWqaJlRVFblcTlSrVfuYVCplH+cnSq/vxeNxoeu6qFQqolKpCF3XhaqqHX9YpyhbrZaoVqsdr0qlYkcw+l6r1RKqqgpd14Vpmh1lZrPZgX9HakyCCKJfwzGICKhc5+81TkYRJd071AubZIM1TqYmSiGEZxc2m80KXddfVC6AKL2E7SxDCH9ROoUrhLCjo7MrSNHB+cd1irLXNTq7dBQh3a02XcMg3U+KUO76+2FZlsjlcj1fQcunCESNWr8oFI/HRS6XC3RuIUYTpRCvfhtqOHqVQS/3/TNtpipKry6ss0sXVJR+NzrhJ0qvbik1CH7fpeP8RElluyMYRUl3VB20C0j10XV9at0yikL9oiT9rfuJko7zew0SjSla9hK2sxF0PsrIwlRHXz/44AMAr0ZhG40GLMuy3w9KNBodqvw33nhjbOcCXky9ZDIZGIaB8+fPd3z29OlT7O7uYnl52fO7z54963v+ZrOJkydPQlVVlMvlkeo6LKVSCeVyGZqmYWdnB/l8Huvr613HKYqCXC6Hvb29vuc8e/Ysjh8/DgB48uQJCoUCUqkU3nzzTQDA0aNHA9Wt3W5jbW0NqqoCAE6ePIk///yz63cSji1ZaST577//xvz8fKBywmaqopyfn4eu67h16xZWV1fx008/Qdd1aX6cQSDB6LruOzWQzWZx6dKlocswDANPnz5FtVod6Deq1Wq+jQFRrVY7pjq8aDQaSKfT0HUd29vbSCQSyGQyiMfjXdMNdON///33fevnnBar1WooFAo4c+ZM3/q4+eqrr7C7u4tKpYLnz58jmUzi4sWLKJVKvt+huc25ubmBygqTqYoSANbW1nDhwgVcu3YN5XIZX3zxxbSrNBSGYQAAbty44RvBfv7556FFmU6nsbu7i2KxOPDNOjc35zvP6TymH2tra3j69Kl9jTdu3MA777yDU6dO4cGDB1OJ3MTW1hYKhQIMw8CJEycAALdu3UK5XMaxY8e6ei7EysoKUqmUXIFg0v1l9yAMjbLSFIizb4+Az5Rugj5Tup85vJ4VgzxTplKpvgMGdIy7THqm7DWwYZrmQAM7YeA1DyiE8BztdqJpWugDPX5zqDTiraqq5zxqvwG7aTH1SEld2MuXL89k17VUKqFQKCAej+PIkSNdS/nm5uYwPz+Pzz//HKVSCSdPnsT169dx5MgR3L9/H5lMBrqu+0a/ZrOJZDIJAFBVFfl83rcuXs9242BrawuXL1/2fFam1T6FQgEfffSRHaWGZWlpqeOZLwjUrb93715HtHau9llbW8OjR4/sz2KxGFZWVnD9+vWR6hsKk24F3JFSCP9JaMxApOw3cuiMEl6LB7LZbM9R1CBzjPQKA4pCvaY/eh0zaKQcFIrgvcpwHzPoNM2kUYQYsFlimAGIxWI4d+5caFF8UPwGvUzTnMqCei9YlAwjGZxPyTCSwaJkGMlgUTKMZLAoGUYyWJQMIxksSoaRjKmIst1uI51OIxaL2cZPi4uLPVer9COoOda4TbTcNJvNQPNd7XYb+Xw+tHows8vERdlut/HWW2+hUChA13Xkcjl7sXQmk8Hi4uKkqzRWbt68iXK53Pe4x48fI5PJTKBGzKwx8bWvV69etdOPnOs919fXkc/nkclkUCqVQltdMczaSoaZJBOPlL/99hsAeC7A/vTTTwG8SLkh/Lxe/d7/448/bG/ZSCSCdDrd4S/r130tlUq21yx5mHr5iNZqtQ7v2kQiYZ+L8gsB9PRizefz9lKv5eXljuug7q+zW98rH5DZf0xclJRhvrGx0WXGHI1GIYQY6Sa8cOECDh8+jGq1iitXrqBUKvU1Ks7n80gmk1hZWUG1WkWlUoFlWdB1vUOYW1tbtpgqlQoqlQra7TaWl5fRaDSQy+WQSqUAvEga9sthPH36NIrFIgCgWCyiWq0CeJFErOs6LMuCaZqoVqtYXFxEMpn0NUJm9iGTXgHvtEbEyywQcpTzYtBMELcRF+UiUq6jO+uD8jndWQOUi+fMEyTLQvdxcGS4+NXXjVf2iWEYnpkWlIspk48MEx4Tj5TRaBSPHj2CaZowDAMPHz5EJpPB8vIyIpHISCOwAPDJJ590/J+eTX/55RfP4+/cuQMAOHToEGq1mv16/PgxNE2zozb5B507d67reoQQvpntg1Aul7G6utqVwU/nvnnz5shlMPIztSTn1dVVWzCNRgO//vorvvnmG2QyGTx79mxo2wwvMyx3N9QJGVZduHCh53n/++8/AC+2EAgD2ueCzKKczIzdPjMWpFg8sLCwgPPnz+PBgwfQNA2FQmHidWi1WhAvLDe7XgwzSSYqStqdyW/QIhqN2tYO/bh7927gcnd3d/vajDx48KDn56+//joA4P79+12fLS4uIp1OB66PFxQNnzx50vXZrOwWxYyHiYpyYWHBjoReN1qz2bQXFXh9RrTbbTx8+NCzjB9//LHj/5ubmwCAM2fOeB5/+vRpAMC3337b8X673UYsFrNHbqnubsvEZrOJ3d1dz27noBiGgVKp1DUqTdcQj8dHLoOZASY9skQ7RcEx8prL5WzvGrfzmHN/CPf+HvAYfcVLZzznXh3OEVmvUU/ycDEMw94LhEaInS7qzg1unMc5XdScfkO9dqKi60qlUnZd6LfRNM3eb4RGXt37jSBEXx5mukzlr0oGUrQnBfBqtyyvYf9KpdKxCxYJ2UuUxWLRNrOiDXyc+JlmmabZNVXjNU3j3OGLBOqsc6vVssvvZ19IjYHzOur1esdOYLQhkBsW5f7lwHn0kHFSEEdw2YlEIvjnn3+mXQ1mzEgx+jpJnj9/Pu0qjIXNzU2srKxMuxpMCBwoUdZqNfzwww8AgLfffnvKtRmNe/fu4csvv5x2NZgQODDdV+q2qqqK69evS+PxyTBuDowoGWZWOFDdV4aZBViUDCMZLEqGkYypi7LdbiMSiSASifhmclAm/jTWgJJTgZ93EC3Hi8ViXcvjJg3VZdT0N2bKTHPlAkGrbLxWwPhtkzdJaPWQ1/ZptPqm15K6YajX6yKbzXYlbfvhTB6XeZs3pj9SiFII752CaX1o0BszTOiGd4pv3A2GZVkim812LD8MstOwaZr2WmAW5ewjjSiF6LzxW62Wbb/Ra1PVQQlq1+HGvYX3uBoMy7JEsVi0r11V1Q6LlH7XTr0MVVXtRoJFOdtIJUpnRgh1C/28e4ZlWFEK8Soy0mL6XrsbB4UWr6dSqaG6wJRJ0mq1bIGyKGcbqUQpxKsbP8jNRaZXgxhKjSJKIURHBodfg+Hcct1ttOWmXq93ZJWMYo7FotwfTH301c17771n/7uXH06z2YSmaYHOSR6qiqJ0+LLSa5DRymPHjgEAVFX1XD+bz+cxPz9vW4nEYrGergQLCwvY3t6GaZrY29uDpmlIp9O+I9HMAWDarYITGkGkZGe/7qHTNhIBIiXlX+ZyOTsqOd8L2kV2JiEj4CAMlRmEVqtlR3K87NIOEjk5Uu4PpBIlZdlXKhVbcL0GUugmnET31dlgUJI2Aoy8plKpDu/YIFiWFThR2gmLcn8gjSidVhsEPb/53fiTFKV7yoZGh9FjjjJoJPeDBnEGOZ5FOftIIUr3dANBLuVu3x5iUqL0ajCc5eu63tXN9rMdceMcFPJ6caQ8eEzNjNkJ2Ureu3evwx08Go3i9u3bWF5extraGh49ejRyWevr61hfXw98fLPZxMcffwxN03Dt2rWOz5aWlpDL5ZDJZHD16lXbQLpUKiGZTMKyrL7WlmfPnrX3V/Hi6NGjgevK7BOm3SpQt7BX6+53zDCRclBoUr9XxHMeQ3WaBhwp9wczneRMbgJBItKkSCQS2NnZ6XhP0zTs7e1NqUbMrDHTomSY/Yh0iwcY5qDDomQYyWBRMoxksCgZRjJYlAwjGSxKhpEMFiXDSIZUoqzValhcXLTzHFdXV7vyChOJBBRFwdbWluc5Njc3oSiKvdHqJJHNmW9zcxOxWAyKoiASiWBjY2PqjntMAKa7oOgVTkc754aslCpFOBepuxeBy2C0FaYzX7FYFKlUqmMjWz9o4T1toEvmWrquD1U2MzmkEWU8Hu/KEiG7D/daTq+sjbCMtoYhLGc+ZwK0qqoim816Zs9Qw+Uui1LJxu17xIwXaUSp63rXFuJ+ohSi+8YPw391FD+fsJz5aNt4wzBsW0lN00Q2m7V7FPV6XWia1hVRWZSzgTSidFOv1z27rwTd6BQx/MQ7CqOIchLOfEK8aLicEdSPSqXC3dcZQUpR0g2Glz48ftCN7/cM53XeQYQxqvNdEGc+p6AwYBqa05ZE0zTPa6NnXOryjtvJnRk/UoqSBnooK99PmE5Ljn5Rkm7MfqJ0CsTrNUg0djYafoJxWlDmcrm+lpRCdIqRTJj9ID9Y0zTtngULU26kFKUTupG8cEaJXjc+CTuIKMflfBfUmc+rrr3O6Xa7G+QZlZ7RZdgGgvFnoqJ0d9WCRB76jlsMJDIagfTy+HFCN+Skuq+DOvMJIexo1q8+NG00DNTQMPIixeKBRqOBSCTiOeH/7NkzAMDc3Jz9XrPZRDqdhqZp+Oyzz7CwsIArV67AsixcvHhxYvX2Y2trC4VCAYZh4MSJE1hdXYVhGCiXy76LGprNJpLJJL7++mvf8x46dAimaWJ7extLS0u+x5VKJd8FCu12O7CJNTMlpt0qEBTpnDinEpx47YAlhOj5DDqpSDmsMx8G6DX0egnx6lnWbU/p9z4jF9KI0tnFc6/ocd7EXhPzhPPGd49iDiPKYfBrMITotKR016vXKLPz+87nW68XQd1neg52ruiZ9uIKpjfSiFIIYQuRWn3DMDpublrJ02v6w++YSYhyGGe+MOtEo7l4OUo76MAQMx0OjHEWbQhUrVZ7Po9Nknw+b2845EQmdz5m8hwYUTLMrCDF6CvDMK9gUTKMZLAoGUYyWJQMIxksSoaRDBYlw0jGWEWZz+ehKAo2NjY8P280GrYh1iyX6Ue73UY6nUYkEoGiKFhcXEStVgu9XGafMe7VCLT+1L1KJUwPnTDL1HVdFIvFQMnHtCzQNE1RrVZDdRxg9i9jF6XfguwwPHQmUSZcW52bpukpcL98TU3TBtoinWFCWfvqdpsb1VpxmmValiVM0xTZbLZrXa5zEblhGJ65kJTZEeZu08z+IrQF6RSlnIm5YTOpMsnGA46F5X4RkTJDuAvLBCU0UTr9c4JYYcTj8ZHd6IKW6eySDppbSO4AeOl6QGX4NQIkyjB7Ccz+IrQpkWg0Cl3XAQDvvvsuotGo77GJRAI7OzsTKTORSMA0TYgXDRIKhQJKpVLfc5dKJcRiMSSTScRiMViWhUuXLvW8LifkoMAw/QhNlKVSCeVyGZqmYWdnB/l83vM4RVFw/PjxsVhUBClze3u7Y3okHo/jr7/+8j0n7W+STCYBAJVKBdvb2wOnVh09enSg45kDTBjhl4ysKMu9VzY+oWnaSN3XYcqkcntl/eNlVziXy/XsgvMzJTMuQhGlWxDkDdNrvnBUUQ5TZiqV6uuzahhGoJFTHn1lxsXYRennoUM3p9/AyiiiHKbMoKZYCGjOzPOUzLgYqyi9dsNyQitvvLZyCyJKr23mhikzSIQk+hlVOUXIK3qYcTA2UdKqml5TEb2OGUaUw5RJzudh0Gq1bBc5vHStY0EygyKNm13Q7itFoGHx6oKyDyojE6+FOrQ7AHt7e4GO++6773Ds2LGhyxHsE8ZIzkzlU7bbbfz77784ffr0tKvCMKHBFpMMIxkzFSkZ5iDAomQYyWBRMoxksCgZRjJYlAwjGSxKhpEMFiXDSAaLkmEkg0XJMJLBomQYyWBRMoxksCgZRjJYlAwjGSxKhpEMFiXDSAaLkmEk4/+7h6Xjb1ZYugAAAABJRU5ErkJggg==)"
      ]
    },
    {
      "cell_type": "code",
      "metadata": {
        "colab": {
          "base_uri": "https://localhost:8080/"
        },
        "id": "LAWHNKmGK5Mi",
        "outputId": "eb04c8cf-c431-4728-83ed-6374bc7f7745"
      },
      "source": [
        "obj1 = [1, 1]\n",
        "lhs_ineq1 = [[ 1,  1],[3,  -1]]\n",
        "rhs_ineq1 = [1,-3]\n",
        "bnd1 = [(0, float(\"inf\")), (0, float(\"inf\"))]\n",
        "opt1 = linprog(c=obj1, A_ub=lhs_ineq1, b_ub=rhs_ineq1, bounds=bnd1, method=\"revised simplex\")\n",
        "opt1"
      ],
      "execution_count": 2,
      "outputs": [
        {
          "output_type": "execute_result",
          "data": {
            "text/plain": [
              "     con: array([], dtype=float64)\n",
              "     fun: 1.0\n",
              " message: 'The problem appears infeasible, as the phase one auxiliary problem terminated successfully with a residual of 2.0e+00, greater than the tolerance 1e-12 required for the solution to be considered feasible. Consider increasing the tolerance to be greater than 2.0e+00. If this tolerance is unnaceptably large, the problem is likely infeasible.'\n",
              "     nit: 1\n",
              "   slack: array([ 0., -2.])\n",
              "  status: 2\n",
              " success: False\n",
              "       x: array([0., 1.])"
            ]
          },
          "metadata": {},
          "execution_count": 2
        }
      ]
    },
    {
      "cell_type": "markdown",
      "metadata": {
        "id": "trDByD-oLZWK"
      },
      "source": [
        "![image.png](data:image/png;base64,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)"
      ]
    },
    {
      "cell_type": "code",
      "metadata": {
        "colab": {
          "base_uri": "https://localhost:8080/"
        },
        "id": "h-2ZLC1KLWf9",
        "outputId": "174c441c-f982-4acc-e843-bd945be6b29b"
      },
      "source": [
        "obj2 = [-2, -4]\n",
        "lhs_ineq2 = [[ 1,2],[1,1]]\n",
        "rhs_ineq2 = [5,4]\n",
        "bnd2 = [(0, float(\"inf\")), (0, float(\"inf\"))]\n",
        "opt2 = linprog(c=obj2, A_ub=lhs_ineq2, b_ub=rhs_ineq2, bounds=bnd2, method=\"revised simplex\")\n",
        "opt2"
      ],
      "execution_count": 3,
      "outputs": [
        {
          "output_type": "execute_result",
          "data": {
            "text/plain": [
              "     con: array([], dtype=float64)\n",
              "     fun: -10.0\n",
              " message: 'Optimization terminated successfully.'\n",
              "     nit: 1\n",
              "   slack: array([0. , 1.5])\n",
              "  status: 0\n",
              " success: True\n",
              "       x: array([0. , 2.5])"
            ]
          },
          "metadata": {},
          "execution_count": 3
        }
      ]
    },
    {
      "cell_type": "markdown",
      "metadata": {
        "id": "xsZ33afVLhdR"
      },
      "source": [
        "![image.png](data:image/png;base64,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)"
      ]
    },
    {
      "cell_type": "code",
      "metadata": {
        "colab": {
          "base_uri": "https://localhost:8080/"
        },
        "id": "B1TVX1ewLgEz",
        "outputId": "e813c470-714d-4260-d3c3-c6bc7f4271c2"
      },
      "source": [
        "obj3 = [-2,-1]\n",
        "lhs_ineq3 = [[ 1,-1],[2,0]]\n",
        "rhs_ineq3 = [10,40]\n",
        "bnd3 = [(0, float(\"inf\")), (0, float(\"inf\"))]\n",
        "opt3 = linprog(c=obj3, A_ub=lhs_ineq3, b_ub=rhs_ineq3, bounds=bnd3, method=\"revised simplex\")\n",
        "opt3"
      ],
      "execution_count": 4,
      "outputs": [
        {
          "output_type": "execute_result",
          "data": {
            "text/plain": [
              "     con: array([], dtype=float64)\n",
              "     fun: -50.0\n",
              " message: 'The problem is unbounded, as the simplex algorithm found a basic feasible solution from which there is a direction with negative reduced cost in which all decision variables increase.'\n",
              "     nit: 2\n",
              "   slack: array([0., 0.])\n",
              "  status: 3\n",
              " success: False\n",
              "       x: array([20., 10.])"
            ]
          },
          "metadata": {},
          "execution_count": 4
        }
      ]
    },
    {
      "cell_type": "markdown",
      "metadata": {
        "id": "1QSo_J2ULofF"
      },
      "source": [
        "![image.png](data:image/png;base64,iVBORw0KGgoAAAANSUhEUgAAAOcAAACBCAYAAAA7Wa1nAAAUMElEQVR4nO2dz2vb9v/Hn/7yua6tnFsppVjuYeyQHZRtlOTQwqJsjF6aYXsdY7CyRtmOW7w6hx3GUuxBD4Mm7ugug80OdDAGzvoDGphMWdps2IfRw5AZPcsNbf+A9/fQvVRJlizZiWQ5eT1Ah8iK3u+3pOf79dZb7/fznRJCCDAMkzj+b9QZYBjGGxYnwyQUFifDJBQWJ8MkFBYnwyQUFifDJBQWJ8MkFBYnwyQUFifDJBQWJ8MkFBYnwyQUFifDJBQWJ8MkFBYnwyQUFifDJJTIxDk3N4dUKoVUKoVut+t73NTUFFKpFObm5qx9lUoFqVRq4DSbzSZSqRSazeZQeXYzNzfnyFfUULn7bVHnp9vtYnl5Gel0GqlUCtlsFteuXXMcQ9d5amrK9xzZbBbZbLbvvY+SdruNfD5vXbdsNotKpeI4hq738vKy7zlSqRTy+XwcWe7hf3EkcufOHc8CttttbG9vx5GFseDUqVMol8uev/31119YX1/HkSNHIs3D+fPncf/+fVy+fBmvvPIK7t27h4WFBTx69Ahff/01AGB6ehrlchnFYhGVSgVLS0uOc3zyyScwDAOtVgsTExOR5teLTqeD06dPQ5ZlNBoNHDp0CL/99huKxSKePHlilWNpaQl3797FysoK3nrrLUxPT1vn6Ha7OHfuHGRZxtWrV2MvAwBARISqqgKAUBRF5HI5z2NKpZKQZVkAEKqqRpWVsafVaglJkoQkScIwjMjS0XVdABDVatWxX9M04fWoKIoiAIhWq2Xtq1arnueIE8qvaZqe++3X0DAMIUmSkGXZcXwul+spW9xELk66We4LJYQQsiyLUqnUI85yuex4GMrlslBVVei6bj0QkiQJTdMc56WHS9d1x9+GYVgXG4D1f7VazaocZFkWjUajpwyULzqX30ZpCvH8hmuaJiRJss497MNqmqZVZnsaUVCr1YQkSb4PtRv3g91qtQQA38p4WACIcrkc+nj7fbPjfj6IRqPhyHcSKhghYhCnYRgCgKjVao7f6UbS70HilGVZSJIkyuWy0HXdOkbTNOs4P3F6/Z+qqkJRFNFoNESj0RCKovQ8mPabbJqm0HXdsTUaDSui0f+ZpikkSRKKoohareZIs1QqDXwdqVIJ86AEVSCDCtw0TetB9cs7/a5pmnWPvCri3TCoOP2gQOAVDek625+PURO5OIUQnk3bUqkkFEV5nokQ4vQSuD0NIfzFaRewEMKKlvbmDdWe9ofXrwZ2p2+/2RQx3Q8olWGQZqn9wQ+DYRiiXC733cKmT/mlV5N+grO3SoLEr2la6PIQeyFOejXwu5+maVrPRb8Kho6JQ8CxiNOraWtv6oUVp98DT/iJ06u5ShWD3//ScX43gNJ2RzSKmu4oO2hTifITJIyoMAzDivpUJr98UNmCoiY1j4PEaa8Y/LZBy0ItnH7vkFTJ+N1zTdMclYQsy3sS0f2Ipbf2zTffBPCi17bdbsMwDGt/WIbt+Tt06NCenQt4/imhWCwil8vh4sWLjt92dnawvb2NmZkZz/998uRJ4Pk7nQ7Onj0LSZKwvr4+kh7PTCaDTCaD6elpHD9+HIVCATdu3Ogpb7vdxqVLlyDLMgzDwPnz53Hz5s2e82WzWczOzkJV1cC03b3WxWIRqqrizJkzA5ej3W7j9OnTAIDNzU1MTk56Hlev17G+vg5ZlnHr1i3PXujV1VXH37Ozs/j3338HzlNoolK9u8lpb9ram7RChI+cbsJGTndTyysiho2cVAv7RRIM+W5pZ9gOoL1+57TjvkdCvOisol5kioz9WgeqqsbWrKU+AVmW+0ZMavLSPfXqhfZCVdXxj5wAcOHCBSwsLODq1atYX1/H559/HlfSe0oulwMAXL9+3Tei3b592/qWNiiLi4vY3t5GtVp1fHcLw9GjR32/k9qP6Zd2vV7H48ePHftpIEEmk3Hsv3LlipXXTCaDr776Crdv38bCwgLeeOMN3ygVB/V6HYVCAYqi4ObNm31bHxcuXMDOzo51T69fv45XX30V586dw9bWluf/VioV3Lp1y7OVsGdEpXp35KReWeoxs3dMYEwiJ0UGd8eUHTrGnSa9l/WLXLVabaAOoL2G8ugun9d+9+cHIuhdOY7IOcj7Oj2P7mjv9TWAoPsU5TdnIWKMnJlMBoqiYGVlBYqi9NTCSader2NtbQ2qquLYsWM9QwSPHj2KTCaDzz77DPV6HWfPnsXq6iqOHTuGe/fuoVgsQlEU32jY6XRQKBQAAJIk9Qw1s+N+F9or5ufncf36dSwuLgKAI++aplmjvDqdDt5//33P0TP20UNXrlwZugVhRwy4YsiHH34I4Pk74ffff9/z+/z8PDKZDDY2NrCysuLZd0Cjh9bW1vDOO+/g7bffBvA8YhaLxYHzNBRRqd4dOYXw/7iLMYicVB6/zV6zew1CKJVKfWvxMO+LtEWJaZo9eXdHrTDvxH7HDBM5B4G+n/fbdF139OD63Rf3MTRoJS5SQvBCRkx8zM3NIZPJ9PR8jgPZbBaGYTj2qaoa2Xsni5NhEgrP52SYhMLiZJiEwuJkmITC4mSYhMLiZJiEwuJkmIQSqTi73S4WFxeRzWYto6Wpqam+o1+CCGvitddmX246nU4o46dut4tKpRJZPpj9S2Ti7Ha7OHnyJNbW1qAoCsrlsjUou1gs+jq3jQs3btzA+vp64HEPHz5EsViMIUfMfiOysbVXrlzBzs4OdF13jCddWlqyxifW6/XIbAenp6fjGf/IMBERWeT8888/AcBzoPdHH30EAPjll1+sfX5etX77//77b8sbN51OY3Fx0eGR6tesrdfrllcueZJ2Op2e8zebTYf37tzcnHWuubk5Kxr285KtVCrWpOuZmRlHOahZbG/u1+t1z/MwB5PIxEmz1peXl3uMhScmJiCE2NXDuLCwgCNHjkDXdVy+fBn1ej3QcLlSqaBQKGB2dha6rqPRaMAwDCiK4hDoxsaGJapGo4FGo4Fut4uZmRm0222Uy2VomgYA0HXddw7l/Pw8qtUqAKBarULXdQDPZ+crigLDMFCr1aDrOqamplAoFHwNjpkDSFQj6u0zyvHfrBNywPNi0Jkn7nmENMeO5hy6Z5nQfFL3DAtyy7PPlJBluWf2gWmajhk1fvl14zXbJZfL9bWgjHqeIDMeRBY5JyYm8ODBA9RqNeRyOdy/fx/FYhEzMzNIp9O76rEFgA8++MDxN727/v77757H37lzBwBw+PBhNJtNa3v48CFkWbaiOPkbffzxxz3lEUL0zPsbhvX1deTz+Z4Z9nTuGzdu7DoNZvyJfLJ1Pp+3hNNut/HHH3/gm2++6bHGHxQv0y5389QOGWstLCz0Pe+zZ88APDeZioJ2uw0AOHHiRM9vo7T1YJJHrIMQJicncfHiRWxtbUGWZaytrcWZPADANE2I55agPRvDJIlIxEmrM/l1bkxMTCCXy2FnZyfwXHfv3g2d7vb2dqD9ydbWVt/fX3rpJQDAvXv3en6bmpqyLDyGhaKjl6UiRVWGASIS5+TkpBUZvR64TqdjDU7w+o3odru4f/++Zxo//fST429apu69997zPH5+fh4A8O233zr203J11NNLef/uu+968rW9ve3ZHB2UXC6Her3e04tNZQjj7cocAKLqaSIvUNh6asvlsuVP43bfJu8Xr/VL4NFbi/+c/Oxrkdh7cL16SclpLZfLWWudUI+y3RXe7ixnP86+EpXdDynIExX/ubhRXujayLJsradCPbVuz1sqK3PwiPSuk9GVfX0J+mzh9bmg0Wg4Vv0iQXuJs1qtWqZbtFCRHT9zr1qt1vOJx+vzjn1FMxKqPc+maVrpB62ZQZWCvRytVsuxxggtfOSGxXlw2bceQs1mEzMzMz3DB8eRdDrdY/TM7H/27ZSxp0+fjjoLe8K1a9cwOzs76mwwI2BfirPZbOKHH34AALz88ssjzs3u2NzcxKVLl0adDWYE7LtmLTVnJUnC6upqZLNeGCZq9p04GWa/sC+btQyzH2BxMkxCYXEyTEKJVJwbGxsO14GpqSlsbGw4jiG3Afd+4tq1a0ilUtbQtjghNwU/vyMa+pfNZnuG4sVFpVJxGKjl83keo7tfiGp0g9cQOBoRYx8qR5OdvSYf09A398TqOKERSl6Lt1J5gpYnH5RWqyVKpVJguWnkEU1ip9FPtAw8M95EJk5ZloWiKJ773S4DXqskm6ZpHRu0OnHU0DA+uwj91hodFsMwRKlUcgx17Dcs0L5SuNf+Ua2OzewdkYiToqFXtPGz93Av/x1FVAprLeKGFlGlimKvIrphGKJarVrilyTJYecSZrFdr3HBXosDM+NH7COqqdnlhiKlJEmO5tpeMqw4hXgRKWkgf78VkcNCA+c1TduzSoi8jkb5KsDsDbGKk0y4/ERnXzI8qOan5tsg71a7EacQwjGLxM+ojKZ+0daPVqvlmNmyF++JlH6/JeGZ8SA2cdJ7paIovhGHomdQ1CRhhhGnXShe2yDRmaKnX9Ss1WqOSkXTtFDNy1qtZpXbbzpdGKjFwe+b+4NYxEkRs58whXhR69OD6lX72y0ww4iT5oSWy2UrStn3hY0w9gnSYSI75dXd+eWHaZpWZB9GpHTtWJj7h8jFSQ+cqqp9hUliK5VKDiH4/Q91iMTRrCUPXvpEQUII6qmlCmEQDMMIPYmb8kbNbXfPLTPeRCrOsLW5uzdUiBdNSL+OjTjF6e5Jtje//Tpy+vWmhoGsS/phN+72clFgxpvIxElCCNPM8vqOKMSL3kyvBy8ucXp9g7Wn79VUp3fiIMFQ+fy2oMjZ7/ow408kU8Y6nQ5kWYYkSfjiiy88j1laWgLwfC2VlZUVVKvVHjd1WkYQ6LW9pHmbhmEE2mHuphyKoiCdTmNra6vHoZ1WSyuVSpY59iD2KPV6HY8ePfL9/fjx477zUev1OgqFAhRFwbvvvjvQ/zJjQhSKpyZpv02IF1GpX4TwO2aYyDkoFNH7NU3txwzzeWdY7J91vDYehDD+jO1k6zgi56AsLi56utiP6SVmRszYipNh9js8n5NhEgqLk2ESCouTYRIKi5NhEgqLk2ESCouTYRJKpOJsNpsOg698Pt+zLHySDb68qFQqSKVSaDab1r5ut4t0Oo10Ou277H0+n0cqlYrVfIsMyCqViufvYQzYmBES1egGGsFDS+zZ19t0L6WXZIMvO/a1Qd2jhuzldbNbv6FqtSo0TXMYowVhHxTvNWc1rAEbMzoiE6eqqj1Tvmh4m/thSbrBF+WHKhEvcQrRO3tFiL2pYOzzPMnGpZ+tSa1Ws/LpJ85BDNiY0RCZOBVF8XWG83pYkmzwRflRFMU6h994W/sMm72sYGgF71wuZwlPlmVRKpUcLRGK4JIkWRHbfb2HMWBj4ie2u9Bqtfp6qibZ4KtarVr5DhInRUpFUawKJgo/H3te7GWieaCmaVpCHeQ6+hmwMfETizjpAULA3MMkGnxRnug9LEicQjhn5fgJg5wf/N5h+2F3Y5Bl2fd/BxVnkAEbEy+xiJM6HIImByfN4IvyY58wHkac9krG6zjKP0GiCMIuSmq29mMQcYYxYGPiJfaXC2q6epE0gy9N03oe1iBx2v2G/Hqh3QS1ArzMv8IIKKw4wxqwMfESuzj9Hu4kGnwFRV2vc1EF02g0rDIF9dRSWYLyTZ+lwhJGnGEN2Jj4iUScJC6vZhd19thFlVSDL13Xeza7855bKF6fhKhTqF8TNEhA1Wp1KJ+gIHGynWayiSxyktjs2D8t2EmywZffOdzC9KpghHB+H/X6LOR+p+2X5iARXIj+4hzEgI0ZDf9DRKyurqJQKCCfz+PTTz/F06dP8eWXX+Lx48fY3Ny0jlteXsb29jaq1SomJycd5/jxxx9x8uRJLC4u4rXXXtu1HcnS0pJlLLbX5HI57OzsYHNz02EENjExgV9//RUzMzO4cOECHjx4YP2WSqVQLpcD83Tq1CmUy+U9y2un00GxWIQkSThx4oTn8L6orhMzAFEqn4bs4b/aPZfLOaJH0g2+vPCKnGG+y7qPkWU5cktLv8gZ1oCNGS1j6yGURIOvsJCtpZswdprMwWFsxckw+x2ez8kwCYXFyTAJhcXJMAmFxckwCYXFyTAJhcXJMAklkeIchelXkozG2u22ZQjmZ4zGHABGOwbCm1GYfkWZpq7rIpfLiVqtFmr6mCRJQlEU0Wg0HMZoPGvkYJFIcQoxGtOvqNK0u/bhv8Hmfg53mqb1CLGf9xKzf0msOIWIx/QrrjRbrZZlcUmTySVJEpqmOcbp0j435GbIHBwSLc44TL9GlaZpmg4LS/vK2OyKxwiRcHEKMZjplxBiYLOsYdN0N1UHmWFCtiP0jktROsz8yyhbDUyySGRvrZ1jx45BlmUAwJkzZ/oem0qlYkuTZsQIIaDrOgqFQmCParfbRaVSwcmTJ1EsFqFpGv755x9cvHgxdN6ePXsWviDMeDPq2iGIMKZfFHHIs2e3kTNMmm6CjrM3YVVV9YyAYSJn3PNXmdGRaHEOavpF72y7EeegadrT9RMOiS5ogjW/czJ2Enu3hzH92q04h0lTiGAfIFpKIcynGO6tZYjEinMY06/dinOYNFVVDeyocnceeW2UZ/7OyRCJFKfXal2EfSSPuxkZVpzURLQ/7MOkGcY5j/JlN7L22ui8PEKIIRInzt2Yfg0rzmHSVFU1skjWarWsaE1Nau4IOnjsKw+hTqcDWZZDGWVVKhUcPnx4oM8YBJmLuanVasjn8wOfj2G82FfiDEu328Xrr7+On3/+uccrl2GSQuIHIUTBw4cPMTs7y8JkEs2BjJwMMw4cyMjJMOMAi5NhEgqLk2ESCouTYRIKi5NhEgqLk2ESCouTYRIKi5NhEgqLk2ESCouTYRIKi5NhEgqLk2ESyv8DgcmcOPhxBq0AAAAASUVORK5CYII=)"
      ]
    },
    {
      "cell_type": "code",
      "metadata": {
        "colab": {
          "base_uri": "https://localhost:8080/"
        },
        "id": "_fq585AILnVP",
        "outputId": "ae7682d4-6f40-4b00-f07e-f710255c8018"
      },
      "source": [
        "obj3 = [3,2]\n",
        "lhs_ineq3 = [[ 2,1],[-3,-4]]\n",
        "rhs_ineq3 = [2,-12]\n",
        "bnd3 = [(0, float(\"inf\")), (0, float(\"inf\"))]\n",
        "opt3 = linprog(c=obj3, A_ub=lhs_ineq3, b_ub=rhs_ineq3, bounds=bnd3, method=\"revised simplex\")\n",
        "opt3"
      ],
      "execution_count": 5,
      "outputs": [
        {
          "output_type": "execute_result",
          "data": {
            "text/plain": [
              "     con: array([], dtype=float64)\n",
              "     fun: 4.0\n",
              " message: 'The problem appears infeasible, as the phase one auxiliary problem terminated successfully with a residual of 4.0e+00, greater than the tolerance 1e-12 required for the solution to be considered feasible. Consider increasing the tolerance to be greater than 4.0e+00. If this tolerance is unnaceptably large, the problem is likely infeasible.'\n",
              "     nit: 1\n",
              "   slack: array([ 0., -4.])\n",
              "  status: 2\n",
              " success: False\n",
              "       x: array([0., 2.])"
            ]
          },
          "metadata": {},
          "execution_count": 5
        }
      ]
    }
  ]
}