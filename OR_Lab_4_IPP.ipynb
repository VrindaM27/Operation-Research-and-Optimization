{
  "nbformat": 4,
  "nbformat_minor": 0,
  "metadata": {
    "colab": {
      "name": "OR_Lab 4_IPP.ipynb",
      "provenance": [],
      "authorship_tag": "ABX9TyMUpeTBAvGxQG11npc9VUcy",
      "include_colab_link": true
    },
    "kernelspec": {
      "name": "python3",
      "display_name": "Python 3"
    },
    "language_info": {
      "name": "python"
    }
  },
  "cells": [
    {
      "cell_type": "markdown",
      "metadata": {
        "id": "view-in-github",
        "colab_type": "text"
      },
      "source": [
        "<a href=\"https://colab.research.google.com/github/VrindaM27/Operation-Research-and-Optimization/blob/main/OR_Lab_4_IPP.ipynb\" target=\"_parent\"><img src=\"https://colab.research.google.com/assets/colab-badge.svg\" alt=\"Open In Colab\"/></a>"
      ]
    },
    {
      "cell_type": "markdown",
      "metadata": {
        "id": "-4w5WxXFZc8y"
      },
      "source": [
        "# **Integer Programming Problem**"
      ]
    },
    {
      "cell_type": "markdown",
      "metadata": {
        "id": "SSS6rU4AZ04C"
      },
      "source": [
        "Q1. **Maximize:-**\n",
        "\n",
        "       z= 7x1 + 10x2\n",
        "\n",
        "       Subject To:-\n",
        "\n",
        "       -x1+ 3x2 <= 6\n",
        "\n",
        "       7x1+x2 <=35\n",
        "\n",
        "       x1,x2>=0 and integers"
      ]
    },
    {
      "cell_type": "code",
      "metadata": {
        "colab": {
          "base_uri": "https://localhost:8080/"
        },
        "id": "8Xq5sJC5aVGq",
        "outputId": "d8caf4b5-97b0-45da-9e24-e21f2e346413"
      },
      "source": [
        "import cvxpy as cp\n",
        "x1 = cp.Variable()\n",
        "x2 = cp.Variable()\n",
        "constraints = [-x1 + 3*x2 <= 6,\n",
        "               7*x1 + x2 <= 35,\n",
        "               x1>=0,\n",
        "               x2>=0]\n",
        "obj = cp.Maximize((7*x1 + 10*x2))\n",
        "prob = cp.Problem(obj, constraints)\n",
        "prob.solve()"
      ],
      "execution_count": 1,
      "outputs": [
        {
          "output_type": "execute_result",
          "data": {
            "text/plain": [
              "66.4999999374403"
            ]
          },
          "metadata": {},
          "execution_count": 1
        }
      ]
    },
    {
      "cell_type": "markdown",
      "metadata": {
        "id": "UMXPRH2kawld"
      },
      "source": [
        "**Q2. Maximize:-**\n",
        "\n",
        "      z=5x1+8x2\n",
        "\n",
        "      Subject To:-\n",
        "\n",
        "      x1+x2 <=6\n",
        "\n",
        "      5x1+9x2 <=45\n",
        "\n",
        "      x1,x2 >=0 and integers"
      ]
    },
    {
      "cell_type": "code",
      "metadata": {
        "colab": {
          "base_uri": "https://localhost:8080/"
        },
        "id": "Ej2N251IbGAM",
        "outputId": "cb453aa9-e8d5-41df-97c4-3793c1ea696e"
      },
      "source": [
        "x1 = cp.Variable()\n",
        "x2 = cp.Variable()\n",
        "constraints = [x1 + x2 <= 6,\n",
        "               5*x1 + 9*x2 <= 45,\n",
        "               x1>=0,\n",
        "               x2>=0]\n",
        "obj = cp.Maximize((5*x1 + 8*x2))\n",
        "prob = cp.Problem(obj, constraints)\n",
        "prob.solve()"
      ],
      "execution_count": 2,
      "outputs": [
        {
          "output_type": "execute_result",
          "data": {
            "text/plain": [
              "41.24999999702171"
            ]
          },
          "metadata": {},
          "execution_count": 2
        }
      ]
    },
    {
      "cell_type": "markdown",
      "metadata": {
        "id": "m6qrFBirbJVa"
      },
      "source": [
        "Q3. A machine is used to produce two interchangeable products. The daily capacity of the machine can produce at most 20 units of product 1 and 10 units of product 2. Alternatively, the machine can be adjusted to produce at most 12 units of product 1 and 25 units of product 2 daily. Market analysis shows that the maximum daily demand for the two products combined is 35 units. Given that the unit profits for the two respective products are $10 and $12, which of the two machine settings should be selected? \n",
        "\n",
        "Formulate the problem as an IPP and find the optimum. \n"
      ]
    },
    {
      "cell_type": "code",
      "metadata": {
        "colab": {
          "base_uri": "https://localhost:8080/"
        },
        "id": "rdgWZyUvb5lY",
        "outputId": "a3f374cb-25dc-4b59-c4d8-d744390562b7"
      },
      "source": [
        "x1 = cp.Variable(integer=True)\n",
        "x2 = cp.Variable(integer=True)\n",
        "\n",
        "constraints1 = [x1 + x2 <= 35,\n",
        "               25*x1-12*x2 <= 0,\n",
        "               12*x1-10*x2 <= 0,\n",
        "               x1>=0,\n",
        "               x2>=0]\n",
        "\n",
        "obj1 = cp.Maximize((10*x1)+(12*x2))\n",
        "\n",
        "prob1 = cp.Problem(obj1, constraints1)\n",
        "prob1.solve()\n",
        "\n",
        "print(\"Value of x1:\", x1.value)\n",
        "print(\"Value of x2:\", x2.value)\n",
        "print(\"Value of obj:\",prob1.value)"
      ],
      "execution_count": 3,
      "outputs": [
        {
          "output_type": "stream",
          "name": "stdout",
          "text": [
            "Value of x1: 0.0\n",
            "Value of x2: 35.0\n",
            "Value of obj: 420.0\n"
          ]
        }
      ]
    }
  ]
}